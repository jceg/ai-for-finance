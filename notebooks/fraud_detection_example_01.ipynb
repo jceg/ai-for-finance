{
 "cells": [
  {
   "cell_type": "markdown",
   "metadata": {},
   "source": [
    "## Setup (for Colab)"
   ]
  },
  {
   "cell_type": "code",
   "execution_count": 1,
   "metadata": {},
   "outputs": [],
   "source": [
    "# from google.colab import drive\n",
    "# drive.mount('/content/drive')\n",
    "\n",
    "# %cd drive/MyDrive/ai-for-finance/notebooks/\n",
    "\n",
    "# !pip install scikit-fuzzy"
   ]
  },
  {
   "cell_type": "markdown",
   "metadata": {},
   "source": [
    "## Description\n",
    "\n",
    "En este notebook, utilizaremos el dataset `banksim` para entrenar modelos de detección de anomalías. Utilizaremos técnicas no supervisadas y semisupervisadas para detectar anomalías."
   ]
  },
  {
   "cell_type": "markdown",
   "metadata": {},
   "source": [
    "## Import libraries"
   ]
  },
  {
   "cell_type": "code",
   "execution_count": 141,
   "metadata": {},
   "outputs": [],
   "source": [
    "import pandas as pd\n",
    "import numpy as np\n",
    "import seaborn as sn\n",
    "\n",
    "from sklearn.metrics import confusion_matrix\n",
    "from sklearn.model_selection import train_test_split\n",
    "from sklearn.preprocessing import MinMaxScaler\n",
    "from sklearn.cluster import KMeans\n",
    "\n",
    "import skfuzzy as fuzz\n",
    "\n",
    "import matplotlib.pyplot as plt"
   ]
  },
  {
   "cell_type": "markdown",
   "metadata": {},
   "source": [
    "## Get dataset"
   ]
  },
  {
   "cell_type": "code",
   "execution_count": 142,
   "metadata": {},
   "outputs": [],
   "source": [
    "df = pd.read_csv('../datasets/banksim_adj.csv')"
   ]
  },
  {
   "cell_type": "markdown",
   "metadata": {},
   "source": [
    "## Explore dataset"
   ]
  },
  {
   "cell_type": "code",
   "execution_count": 143,
   "metadata": {},
   "outputs": [
    {
     "data": {
      "text/plain": [
       "Index(['Unnamed: 0', 'age', 'amount', 'fraud', 'M', 'es_barsandrestaurants',\n",
       "       'es_contents', 'es_fashion', 'es_food', 'es_health', 'es_home',\n",
       "       'es_hotelservices', 'es_hyper', 'es_leisure', 'es_otherservices',\n",
       "       'es_sportsandtoys', 'es_tech', 'es_transportation', 'es_travel'],\n",
       "      dtype='object')"
      ]
     },
     "execution_count": 143,
     "metadata": {},
     "output_type": "execute_result"
    }
   ],
   "source": [
    "df.columns"
   ]
  },
  {
   "cell_type": "code",
   "execution_count": 144,
   "metadata": {},
   "outputs": [
    {
     "data": {
      "text/html": [
       "<div>\n",
       "<style scoped>\n",
       "    .dataframe tbody tr th:only-of-type {\n",
       "        vertical-align: middle;\n",
       "    }\n",
       "\n",
       "    .dataframe tbody tr th {\n",
       "        vertical-align: top;\n",
       "    }\n",
       "\n",
       "    .dataframe thead th {\n",
       "        text-align: right;\n",
       "    }\n",
       "</style>\n",
       "<table border=\"1\" class=\"dataframe\">\n",
       "  <thead>\n",
       "    <tr style=\"text-align: right;\">\n",
       "      <th></th>\n",
       "      <th>Unnamed: 0</th>\n",
       "      <th>age</th>\n",
       "      <th>amount</th>\n",
       "      <th>fraud</th>\n",
       "      <th>M</th>\n",
       "      <th>es_barsandrestaurants</th>\n",
       "      <th>es_contents</th>\n",
       "      <th>es_fashion</th>\n",
       "      <th>es_food</th>\n",
       "      <th>es_health</th>\n",
       "      <th>es_home</th>\n",
       "      <th>es_hotelservices</th>\n",
       "      <th>es_hyper</th>\n",
       "      <th>es_leisure</th>\n",
       "      <th>es_otherservices</th>\n",
       "      <th>es_sportsandtoys</th>\n",
       "      <th>es_tech</th>\n",
       "      <th>es_transportation</th>\n",
       "      <th>es_travel</th>\n",
       "    </tr>\n",
       "  </thead>\n",
       "  <tbody>\n",
       "    <tr>\n",
       "      <th>0</th>\n",
       "      <td>0</td>\n",
       "      <td>3</td>\n",
       "      <td>49.71</td>\n",
       "      <td>0</td>\n",
       "      <td>0</td>\n",
       "      <td>0</td>\n",
       "      <td>0</td>\n",
       "      <td>0</td>\n",
       "      <td>0</td>\n",
       "      <td>0</td>\n",
       "      <td>0</td>\n",
       "      <td>0</td>\n",
       "      <td>0</td>\n",
       "      <td>0</td>\n",
       "      <td>0</td>\n",
       "      <td>0</td>\n",
       "      <td>0</td>\n",
       "      <td>1</td>\n",
       "      <td>0</td>\n",
       "    </tr>\n",
       "    <tr>\n",
       "      <th>1</th>\n",
       "      <td>1</td>\n",
       "      <td>4</td>\n",
       "      <td>39.29</td>\n",
       "      <td>0</td>\n",
       "      <td>0</td>\n",
       "      <td>0</td>\n",
       "      <td>0</td>\n",
       "      <td>0</td>\n",
       "      <td>0</td>\n",
       "      <td>1</td>\n",
       "      <td>0</td>\n",
       "      <td>0</td>\n",
       "      <td>0</td>\n",
       "      <td>0</td>\n",
       "      <td>0</td>\n",
       "      <td>0</td>\n",
       "      <td>0</td>\n",
       "      <td>0</td>\n",
       "      <td>0</td>\n",
       "    </tr>\n",
       "    <tr>\n",
       "      <th>2</th>\n",
       "      <td>2</td>\n",
       "      <td>3</td>\n",
       "      <td>18.76</td>\n",
       "      <td>0</td>\n",
       "      <td>0</td>\n",
       "      <td>0</td>\n",
       "      <td>0</td>\n",
       "      <td>0</td>\n",
       "      <td>0</td>\n",
       "      <td>0</td>\n",
       "      <td>0</td>\n",
       "      <td>0</td>\n",
       "      <td>0</td>\n",
       "      <td>0</td>\n",
       "      <td>0</td>\n",
       "      <td>0</td>\n",
       "      <td>0</td>\n",
       "      <td>1</td>\n",
       "      <td>0</td>\n",
       "    </tr>\n",
       "    <tr>\n",
       "      <th>3</th>\n",
       "      <td>3</td>\n",
       "      <td>4</td>\n",
       "      <td>13.95</td>\n",
       "      <td>0</td>\n",
       "      <td>1</td>\n",
       "      <td>0</td>\n",
       "      <td>0</td>\n",
       "      <td>0</td>\n",
       "      <td>0</td>\n",
       "      <td>0</td>\n",
       "      <td>0</td>\n",
       "      <td>0</td>\n",
       "      <td>0</td>\n",
       "      <td>0</td>\n",
       "      <td>0</td>\n",
       "      <td>0</td>\n",
       "      <td>0</td>\n",
       "      <td>1</td>\n",
       "      <td>0</td>\n",
       "    </tr>\n",
       "    <tr>\n",
       "      <th>4</th>\n",
       "      <td>4</td>\n",
       "      <td>2</td>\n",
       "      <td>49.87</td>\n",
       "      <td>0</td>\n",
       "      <td>1</td>\n",
       "      <td>0</td>\n",
       "      <td>0</td>\n",
       "      <td>0</td>\n",
       "      <td>0</td>\n",
       "      <td>0</td>\n",
       "      <td>0</td>\n",
       "      <td>0</td>\n",
       "      <td>0</td>\n",
       "      <td>0</td>\n",
       "      <td>0</td>\n",
       "      <td>0</td>\n",
       "      <td>0</td>\n",
       "      <td>1</td>\n",
       "      <td>0</td>\n",
       "    </tr>\n",
       "  </tbody>\n",
       "</table>\n",
       "</div>"
      ],
      "text/plain": [
       "   Unnamed: 0  age  amount  fraud  M  es_barsandrestaurants  es_contents  \\\n",
       "0           0    3   49.71      0  0                      0            0   \n",
       "1           1    4   39.29      0  0                      0            0   \n",
       "2           2    3   18.76      0  0                      0            0   \n",
       "3           3    4   13.95      0  1                      0            0   \n",
       "4           4    2   49.87      0  1                      0            0   \n",
       "\n",
       "   es_fashion  es_food  es_health  es_home  es_hotelservices  es_hyper  \\\n",
       "0           0        0          0        0                 0         0   \n",
       "1           0        0          1        0                 0         0   \n",
       "2           0        0          0        0                 0         0   \n",
       "3           0        0          0        0                 0         0   \n",
       "4           0        0          0        0                 0         0   \n",
       "\n",
       "   es_leisure  es_otherservices  es_sportsandtoys  es_tech  es_transportation  \\\n",
       "0           0                 0                 0        0                  1   \n",
       "1           0                 0                 0        0                  0   \n",
       "2           0                 0                 0        0                  1   \n",
       "3           0                 0                 0        0                  1   \n",
       "4           0                 0                 0        0                  1   \n",
       "\n",
       "   es_travel  \n",
       "0          0  \n",
       "1          0  \n",
       "2          0  \n",
       "3          0  \n",
       "4          0  "
      ]
     },
     "execution_count": 144,
     "metadata": {},
     "output_type": "execute_result"
    }
   ],
   "source": [
    "df.head()"
   ]
  },
  {
   "cell_type": "code",
   "execution_count": 145,
   "metadata": {},
   "outputs": [
    {
     "data": {
      "text/plain": [
       "fraud\n",
       "0    6989\n",
       "1     200\n",
       "Name: count, dtype: int64"
      ]
     },
     "execution_count": 145,
     "metadata": {},
     "output_type": "execute_result"
    }
   ],
   "source": [
    "df.fraud.value_counts()"
   ]
  },
  {
   "cell_type": "markdown",
   "metadata": {},
   "source": [
    "## Basic preprocessing"
   ]
  },
  {
   "cell_type": "code",
   "execution_count": 146,
   "metadata": {},
   "outputs": [],
   "source": [
    "y = df.fraud.values.astype(float)\n",
    "df = df.drop(['Unnamed: 0', 'fraud'], axis=1)"
   ]
  },
  {
   "cell_type": "code",
   "execution_count": 147,
   "metadata": {},
   "outputs": [],
   "source": [
    "X = df.values.astype(float)"
   ]
  },
  {
   "cell_type": "markdown",
   "metadata": {},
   "source": [
    "### Data scaling"
   ]
  },
  {
   "cell_type": "code",
   "execution_count": 148,
   "metadata": {},
   "outputs": [],
   "source": [
    "scaler = MinMaxScaler()\n",
    "X_scaled = scaler.fit_transform(X)"
   ]
  },
  {
   "cell_type": "markdown",
   "metadata": {},
   "source": [
    "### Apply elbow method to find the number of clusters"
   ]
  },
  {
   "cell_type": "markdown",
   "metadata": {},
   "source": [
    "El método del codo es un método básico para encontrar el número óptimo de clústeres. Hay otros métodos que se pueden usar para encontrar el número óptimo de clústeres, como el método de silhouette."
   ]
  },
  {
   "cell_type": "code",
   "execution_count": 149,
   "metadata": {},
   "outputs": [],
   "source": [
    "num_clusters = range(1, 10)\n",
    "\n",
    "# Apply KMeans algorithm for each value of K\n",
    "kmeans = [KMeans(n_clusters=k, n_init=\"auto\") for k in num_clusters]"
   ]
  },
  {
   "cell_type": "markdown",
   "metadata": {},
   "source": [
    "La inercia mide la distancia total al cuadrado entre cada punto en un clúster y el centroide de ese clúster. Proporciona una idea de qué tan compactos son los clústeres, es decir, qué tan cerca están los puntos de datos de los centroides de sus respectivos clústeres"
   ]
  },
  {
   "cell_type": "code",
   "execution_count": 150,
   "metadata": {},
   "outputs": [],
   "source": [
    "# get the score of each clusterization, also known as inertia\n",
    "score = [1-kmeans[k].fit(X_scaled).score(X_scaled) for k in range(len(kmeans))]"
   ]
  },
  {
   "cell_type": "code",
   "execution_count": 151,
   "metadata": {},
   "outputs": [
    {
     "data": {
      "image/png": "[encoded data removed]",
      "text/plain": [
       "<Figure size 640x480 with 1 Axes>"
      ]
     },
     "metadata": {},
     "output_type": "display_data"
    }
   ],
   "source": [
    "# plot the inertia vs K values to get the elbow\n",
    "plt.plot(num_clusters, score)\n",
    "plt.xlabel('num clusters')\n",
    "plt.ylabel('Inertia')\n",
    "plt.title('Elbow Curve')\n",
    "plt.show()"
   ]
  },
  {
   "cell_type": "markdown",
   "metadata": {},
   "source": [
    "## Split dataset into train and test sets"
   ]
  },
  {
   "cell_type": "code",
   "execution_count": 152,
   "metadata": {},
   "outputs": [],
   "source": [
    "X_train, X_test, y_train, y_test = train_test_split(X_scaled, y, test_size=0.3, random_state=42)"
   ]
  },
  {
   "cell_type": "markdown",
   "metadata": {},
   "source": [
    "### Train and predict with K-Means"
   ]
  },
  {
   "cell_type": "code",
   "execution_count": 153,
   "metadata": {},
   "outputs": [],
   "source": [
    "kmeans = KMeans(n_clusters=3, random_state=0, n_init=\"auto\").fit(X_train)\n",
    "X_train_clusters = kmeans.predict(X_train)"
   ]
  },
  {
   "cell_type": "code",
   "execution_count": 154,
   "metadata": {},
   "outputs": [],
   "source": [
    "# get the cluster centroids\n",
    "X_trained_clusters_centers = kmeans.cluster_centers_"
   ]
  },
  {
   "cell_type": "markdown",
   "metadata": {},
   "source": [
    "## Apply the IQR-based outlier detection method"
   ]
  },
  {
   "cell_type": "markdown",
   "metadata": {},
   "source": [
    "Esta es una aproximación para identificar valores atípicos en un conjunto de datos utilizando el rango intercuartíl(IQR). El IQR es la diferencia entre el percentil 75 (Q3) y el percentil 25 (Q1) de los datos. El IQR se utiliza para identificar valores atípicos definiendo límites en los valores de la muestra que son un factor k del IQR por debajo del percentil 25 o por encima del percentil 75."
   ]
  },
  {
   "cell_type": "code",
   "execution_count": 155,
   "metadata": {},
   "outputs": [],
   "source": [
    "# calculate the distance from each point to its respective cluster centroid\n",
    "dist = [np.linalg.norm(x-y) for x, y in zip(X_train, X_trained_clusters_centers[X_train_clusters])]"
   ]
  },
  {
   "cell_type": "code",
   "execution_count": 156,
   "metadata": {},
   "outputs": [
    {
     "data": {
      "image/png": "[encoded data removed]",
      "text/plain": [
       "<Figure size 640x480 with 1 Axes>"
      ]
     },
     "metadata": {},
     "output_type": "display_data"
    }
   ],
   "source": [
    "# get the box plot for the distance calculated above\n",
    "box_plot_data=[dist]\n",
    "plt.boxplot(box_plot_data)\n",
    "plt.show()"
   ]
  },
  {
   "cell_type": "code",
   "execution_count": 157,
   "metadata": {},
   "outputs": [
    {
     "name": "stdout",
     "output_type": "stream",
     "text": [
      "q75:  0.3484373994441168\n",
      "q25:  0.1602475066473226\n"
     ]
    }
   ],
   "source": [
    "q75 = np.percentile(dist, 75)\n",
    "q25 = np.percentile(dist, 25)\n",
    "\n",
    "print(\"q75: \", q75)\n",
    "print(\"q25: \", q25)"
   ]
  },
  {
   "cell_type": "code",
   "execution_count": 158,
   "metadata": {},
   "outputs": [
    {
     "name": "stdout",
     "output_type": "stream",
     "text": [
      "0.18818989279679418\n"
     ]
    }
   ],
   "source": [
    "# calculate the inter quartile range\n",
    "iqr = q75-q25\n",
    "print(iqr)"
   ]
  },
  {
   "cell_type": "code",
   "execution_count": 159,
   "metadata": {},
   "outputs": [
    {
     "name": "stdout",
     "output_type": "stream",
     "text": [
      "0.6307222386393081\n"
     ]
    }
   ],
   "source": [
    "upper_threshold = q75 + (iqr * 1.5)\n",
    "print(upper_threshold)"
   ]
  },
  {
   "cell_type": "code",
   "execution_count": 160,
   "metadata": {},
   "outputs": [],
   "source": [
    "# perform the clustering on the test set\n",
    "X_test_clusters = kmeans.predict(X_test)"
   ]
  },
  {
   "cell_type": "code",
   "execution_count": 161,
   "metadata": {},
   "outputs": [],
   "source": [
    "# calculate the distance from each point to its respective cluster centroid for the test set\n",
    "dist_test = [np.linalg.norm(x-y) for x, y in zip(X_test, X_trained_clusters_centers[X_test_clusters])]"
   ]
  },
  {
   "cell_type": "code",
   "execution_count": 162,
   "metadata": {},
   "outputs": [],
   "source": [
    "# Let's use the upper_threshold calculated above as the threshold to determine if a point is an anomaly or not\n",
    "km_y_pred = np.array(dist_test)\n",
    "km_y_pred[dist_test >= upper_threshold] = 1\n",
    "km_y_pred[dist_test < upper_threshold] = 0"
   ]
  },
  {
   "cell_type": "code",
   "execution_count": 163,
   "metadata": {},
   "outputs": [
    {
     "name": "stdout",
     "output_type": "stream",
     "text": [
      "352.0\n",
      "58.0\n"
     ]
    }
   ],
   "source": [
    "print(np.sum(km_y_pred))\n",
    "print(np.sum(y_test))"
   ]
  },
  {
   "cell_type": "markdown",
   "metadata": {},
   "source": [
    "### Calculate the confusion matrix"
   ]
  },
  {
   "cell_type": "code",
   "execution_count": 164,
   "metadata": {},
   "outputs": [],
   "source": [
    "# calculate the confusion matrix\n",
    "km_cm = confusion_matrix(y_test, km_y_pred, labels=[1, 0])"
   ]
  },
  {
   "cell_type": "code",
   "execution_count": 165,
   "metadata": {},
   "outputs": [],
   "source": [
    "# custom function to plot the confusion matrix\n",
    "def plot_confusion_matrix(km_cm):\n",
    "    df_cm = pd.DataFrame(km_cm.T, ['Predicted positive','Predicted negative'],['Actual positive','Actual negative'])\n",
    "    plt.figure(figsize = (8,4))\n",
    "    sn.set(font_scale=1.4) \n",
    "    sn.heatmap(df_cm, annot=True,annot_kws={\"size\": 16},fmt='g')\n",
    "    plt.show()"
   ]
  },
  {
   "cell_type": "code",
   "execution_count": 166,
   "metadata": {},
   "outputs": [
    {
     "data": {
      "image/png": "[encoded data removed]",
      "text/plain": [
       "<Figure size 800x400 with 2 Axes>"
      ]
     },
     "metadata": {},
     "output_type": "display_data"
    }
   ],
   "source": [
    "plot_confusion_matrix(km_cm)"
   ]
  },
  {
   "cell_type": "markdown",
   "metadata": {},
   "source": [
    "## Fuzzy c-means -- a semi-supervised approach"
   ]
  },
  {
   "cell_type": "code",
   "execution_count": 167,
   "metadata": {},
   "outputs": [],
   "source": [
    "# We only train the model with the non-fraudulent data\n",
    "X_filtr=X_scaled[y==0]"
   ]
  },
  {
   "cell_type": "code",
   "execution_count": 168,
   "metadata": {},
   "outputs": [],
   "source": [
    "# let's estimate the number of clusters\n",
    "\n",
    "# fuzzy partition coefficient\n",
    "fpcs = []\n",
    "\n",
    "# fuzzyness coefficient\n",
    "fuzzy_coefficient = 2\n",
    "\n",
    "\n",
    "list_num_centers = range(2,10)\n",
    "for num_centers in list_num_centers:\n",
    "    centroids, u, _, _, _, _, fpc = fuzz.cluster.cmeans(X_filtr, num_centers, fuzzy_coefficient, error=0.005, maxiter=1000, init=None)\n",
    "\n",
    "    # Store fpc values for later analysis\n",
    "    fpcs.append(fpc)"
   ]
  },
  {
   "cell_type": "code",
   "execution_count": 169,
   "metadata": {},
   "outputs": [
    {
     "data": {
      "image/png": "[encoded data removed]",
      "text/plain": [
       "<Figure size 640x480 with 1 Axes>"
      ]
     },
     "metadata": {},
     "output_type": "display_data"
    }
   ],
   "source": [
    "# plot how the fuzzy partition coefficient changes for different number of clusters\n",
    "plt.plot(list_num_centers, 1-np.array(fpcs))\n",
    "plt.xlabel('num clusters')\n",
    "plt.ylabel('partition fuzzy coefficient')\n",
    "plt.title('partition fuzzy coefficient vs num clusters')\n",
    "plt.show()"
   ]
  },
  {
   "cell_type": "markdown",
   "metadata": {},
   "source": [
    "### Train Fuzzy C-Means clustering model"
   ]
  },
  {
   "cell_type": "code",
   "execution_count": 170,
   "metadata": {},
   "outputs": [],
   "source": [
    "num_centers = 3\n",
    "centroids, u, u0, d, jm, p, fpc = fuzz.cluster.cmeans(X_filtr.T, num_centers, fuzzy_coefficient, error=0.005, maxiter=1000, init=None)"
   ]
  },
  {
   "cell_type": "markdown",
   "metadata": {},
   "source": [
    "### Predict with Fuzzy C-Means clustering model"
   ]
  },
  {
   "cell_type": "code",
   "execution_count": 171,
   "metadata": {},
   "outputs": [],
   "source": [
    "u, _, _, _, _, _ = fuzz.cluster.cmeans_predict(X_train.T, centroids, fuzzy_coefficient, error=0.005, maxiter=1000)"
   ]
  },
  {
   "cell_type": "markdown",
   "metadata": {},
   "source": [
    "En el método de \"Fuzzy C-means\", cada punto de datos tiene un coeficiente de membresía para cada clúster. El coeficiente de membresía indica el grado en que un punto de datos pertenece a un clúster. El coeficiente de membresía es un valor entre 0 y 1. Un valor de 1 indica que el punto de datos pertenece al clúster con certeza. Un valor de 0 indica que el punto de datos no pertenece en absoluto al clúster. Un valor entre 0 y 1 indica el grado en que el punto de datos pertenece al clúster."
   ]
  },
  {
   "cell_type": "code",
   "execution_count": 172,
   "metadata": {},
   "outputs": [
    {
     "data": {
      "text/plain": [
       "(3, 5032)"
      ]
     },
     "execution_count": 172,
     "metadata": {},
     "output_type": "execute_result"
    }
   ],
   "source": [
    "u.shape"
   ]
  },
  {
   "cell_type": "code",
   "execution_count": 173,
   "metadata": {},
   "outputs": [],
   "source": [
    "cluster_membership = np.argmax(u, axis=0)\n",
    "max_u = np.max(u,axis=0)\n",
    "results = pd.DataFrame(u.T, columns=['u1','u2','u3'])\n",
    "\n",
    "results['cluster_membership'] = cluster_membership\n",
    "results['max_u'] = max_u\n",
    "results['fraud'] = y_train"
   ]
  },
  {
   "cell_type": "code",
   "execution_count": 174,
   "metadata": {},
   "outputs": [
    {
     "data": {
      "text/html": [
       "<div>\n",
       "<style scoped>\n",
       "    .dataframe tbody tr th:only-of-type {\n",
       "        vertical-align: middle;\n",
       "    }\n",
       "\n",
       "    .dataframe tbody tr th {\n",
       "        vertical-align: top;\n",
       "    }\n",
       "\n",
       "    .dataframe thead th {\n",
       "        text-align: right;\n",
       "    }\n",
       "</style>\n",
       "<table border=\"1\" class=\"dataframe\">\n",
       "  <thead>\n",
       "    <tr style=\"text-align: right;\">\n",
       "      <th></th>\n",
       "      <th>u1</th>\n",
       "      <th>u2</th>\n",
       "      <th>u3</th>\n",
       "      <th>cluster_membership</th>\n",
       "      <th>max_u</th>\n",
       "      <th>fraud</th>\n",
       "    </tr>\n",
       "  </thead>\n",
       "  <tbody>\n",
       "    <tr>\n",
       "      <th>0</th>\n",
       "      <td>0.936866</td>\n",
       "      <td>0.034263</td>\n",
       "      <td>0.028871</td>\n",
       "      <td>0</td>\n",
       "      <td>0.936866</td>\n",
       "      <td>0.0</td>\n",
       "    </tr>\n",
       "    <tr>\n",
       "      <th>1</th>\n",
       "      <td>0.708864</td>\n",
       "      <td>0.157479</td>\n",
       "      <td>0.133657</td>\n",
       "      <td>0</td>\n",
       "      <td>0.708864</td>\n",
       "      <td>0.0</td>\n",
       "    </tr>\n",
       "    <tr>\n",
       "      <th>2</th>\n",
       "      <td>0.009327</td>\n",
       "      <td>0.984775</td>\n",
       "      <td>0.005898</td>\n",
       "      <td>1</td>\n",
       "      <td>0.984775</td>\n",
       "      <td>0.0</td>\n",
       "    </tr>\n",
       "    <tr>\n",
       "      <th>3</th>\n",
       "      <td>0.036484</td>\n",
       "      <td>0.940380</td>\n",
       "      <td>0.023136</td>\n",
       "      <td>1</td>\n",
       "      <td>0.940380</td>\n",
       "      <td>0.0</td>\n",
       "    </tr>\n",
       "    <tr>\n",
       "      <th>4</th>\n",
       "      <td>0.154179</td>\n",
       "      <td>0.735875</td>\n",
       "      <td>0.109946</td>\n",
       "      <td>1</td>\n",
       "      <td>0.735875</td>\n",
       "      <td>0.0</td>\n",
       "    </tr>\n",
       "  </tbody>\n",
       "</table>\n",
       "</div>"
      ],
      "text/plain": [
       "         u1        u2        u3  cluster_membership     max_u  fraud\n",
       "0  0.936866  0.034263  0.028871                   0  0.936866    0.0\n",
       "1  0.708864  0.157479  0.133657                   0  0.708864    0.0\n",
       "2  0.009327  0.984775  0.005898                   1  0.984775    0.0\n",
       "3  0.036484  0.940380  0.023136                   1  0.940380    0.0\n",
       "4  0.154179  0.735875  0.109946                   1  0.735875    0.0"
      ]
     },
     "execution_count": 174,
     "metadata": {},
     "output_type": "execute_result"
    }
   ],
   "source": [
    "results.head()"
   ]
  },
  {
   "cell_type": "code",
   "execution_count": 175,
   "metadata": {},
   "outputs": [
    {
     "data": {
      "text/html": [
       "<div>\n",
       "<style scoped>\n",
       "    .dataframe tbody tr th:only-of-type {\n",
       "        vertical-align: middle;\n",
       "    }\n",
       "\n",
       "    .dataframe tbody tr th {\n",
       "        vertical-align: top;\n",
       "    }\n",
       "\n",
       "    .dataframe thead th {\n",
       "        text-align: right;\n",
       "    }\n",
       "</style>\n",
       "<table border=\"1\" class=\"dataframe\">\n",
       "  <thead>\n",
       "    <tr style=\"text-align: right;\">\n",
       "      <th></th>\n",
       "      <th>u1</th>\n",
       "      <th>u2</th>\n",
       "      <th>u3</th>\n",
       "      <th>cluster_membership</th>\n",
       "      <th>max_u</th>\n",
       "      <th>fraud</th>\n",
       "    </tr>\n",
       "  </thead>\n",
       "  <tbody>\n",
       "    <tr>\n",
       "      <th>7</th>\n",
       "      <td>0.232976</td>\n",
       "      <td>0.315600</td>\n",
       "      <td>0.451424</td>\n",
       "      <td>2</td>\n",
       "      <td>0.451424</td>\n",
       "      <td>1.0</td>\n",
       "    </tr>\n",
       "    <tr>\n",
       "      <th>36</th>\n",
       "      <td>0.310707</td>\n",
       "      <td>0.230078</td>\n",
       "      <td>0.459216</td>\n",
       "      <td>2</td>\n",
       "      <td>0.459216</td>\n",
       "      <td>1.0</td>\n",
       "    </tr>\n",
       "    <tr>\n",
       "      <th>77</th>\n",
       "      <td>0.211893</td>\n",
       "      <td>0.311304</td>\n",
       "      <td>0.476803</td>\n",
       "      <td>2</td>\n",
       "      <td>0.476803</td>\n",
       "      <td>1.0</td>\n",
       "    </tr>\n",
       "    <tr>\n",
       "      <th>147</th>\n",
       "      <td>0.284491</td>\n",
       "      <td>0.193462</td>\n",
       "      <td>0.522047</td>\n",
       "      <td>2</td>\n",
       "      <td>0.522047</td>\n",
       "      <td>1.0</td>\n",
       "    </tr>\n",
       "    <tr>\n",
       "      <th>178</th>\n",
       "      <td>0.283175</td>\n",
       "      <td>0.206168</td>\n",
       "      <td>0.510657</td>\n",
       "      <td>2</td>\n",
       "      <td>0.510657</td>\n",
       "      <td>1.0</td>\n",
       "    </tr>\n",
       "  </tbody>\n",
       "</table>\n",
       "</div>"
      ],
      "text/plain": [
       "           u1        u2        u3  cluster_membership     max_u  fraud\n",
       "7    0.232976  0.315600  0.451424                   2  0.451424    1.0\n",
       "36   0.310707  0.230078  0.459216                   2  0.459216    1.0\n",
       "77   0.211893  0.311304  0.476803                   2  0.476803    1.0\n",
       "147  0.284491  0.193462  0.522047                   2  0.522047    1.0\n",
       "178  0.283175  0.206168  0.510657                   2  0.510657    1.0"
      ]
     },
     "execution_count": 175,
     "metadata": {},
     "output_type": "execute_result"
    }
   ],
   "source": [
    "anomalies = results[results['fraud']==1]\n",
    "anomalies.head()"
   ]
  },
  {
   "cell_type": "code",
   "execution_count": 176,
   "metadata": {},
   "outputs": [
    {
     "data": {
      "text/html": [
       "<div>\n",
       "<style scoped>\n",
       "    .dataframe tbody tr th:only-of-type {\n",
       "        vertical-align: middle;\n",
       "    }\n",
       "\n",
       "    .dataframe tbody tr th {\n",
       "        vertical-align: top;\n",
       "    }\n",
       "\n",
       "    .dataframe thead th {\n",
       "        text-align: right;\n",
       "    }\n",
       "</style>\n",
       "<table border=\"1\" class=\"dataframe\">\n",
       "  <thead>\n",
       "    <tr style=\"text-align: right;\">\n",
       "      <th></th>\n",
       "      <th>u1</th>\n",
       "      <th>u2</th>\n",
       "      <th>u3</th>\n",
       "      <th>cluster_membership</th>\n",
       "      <th>max_u</th>\n",
       "      <th>fraud</th>\n",
       "    </tr>\n",
       "  </thead>\n",
       "  <tbody>\n",
       "    <tr>\n",
       "      <th>0</th>\n",
       "      <td>0.936866</td>\n",
       "      <td>0.034263</td>\n",
       "      <td>0.028871</td>\n",
       "      <td>0</td>\n",
       "      <td>0.936866</td>\n",
       "      <td>0.0</td>\n",
       "    </tr>\n",
       "    <tr>\n",
       "      <th>1</th>\n",
       "      <td>0.708864</td>\n",
       "      <td>0.157479</td>\n",
       "      <td>0.133657</td>\n",
       "      <td>0</td>\n",
       "      <td>0.708864</td>\n",
       "      <td>0.0</td>\n",
       "    </tr>\n",
       "    <tr>\n",
       "      <th>2</th>\n",
       "      <td>0.009327</td>\n",
       "      <td>0.984775</td>\n",
       "      <td>0.005898</td>\n",
       "      <td>1</td>\n",
       "      <td>0.984775</td>\n",
       "      <td>0.0</td>\n",
       "    </tr>\n",
       "    <tr>\n",
       "      <th>3</th>\n",
       "      <td>0.036484</td>\n",
       "      <td>0.940380</td>\n",
       "      <td>0.023136</td>\n",
       "      <td>1</td>\n",
       "      <td>0.940380</td>\n",
       "      <td>0.0</td>\n",
       "    </tr>\n",
       "    <tr>\n",
       "      <th>4</th>\n",
       "      <td>0.154179</td>\n",
       "      <td>0.735875</td>\n",
       "      <td>0.109946</td>\n",
       "      <td>1</td>\n",
       "      <td>0.735875</td>\n",
       "      <td>0.0</td>\n",
       "    </tr>\n",
       "  </tbody>\n",
       "</table>\n",
       "</div>"
      ],
      "text/plain": [
       "         u1        u2        u3  cluster_membership     max_u  fraud\n",
       "0  0.936866  0.034263  0.028871                   0  0.936866    0.0\n",
       "1  0.708864  0.157479  0.133657                   0  0.708864    0.0\n",
       "2  0.009327  0.984775  0.005898                   1  0.984775    0.0\n",
       "3  0.036484  0.940380  0.023136                   1  0.940380    0.0\n",
       "4  0.154179  0.735875  0.109946                   1  0.735875    0.0"
      ]
     },
     "execution_count": 176,
     "metadata": {},
     "output_type": "execute_result"
    }
   ],
   "source": [
    "legitimate_transactions = results[results['fraud']==0]\n",
    "legitimate_transactions.head()"
   ]
  },
  {
   "cell_type": "markdown",
   "metadata": {},
   "source": [
    "### Box plot of the maximum membership coefficient for each data point"
   ]
  },
  {
   "cell_type": "code",
   "execution_count": 177,
   "metadata": {},
   "outputs": [
    {
     "data": {
      "image/png": "[encoded data removed]",
      "text/plain": [
       "<Figure size 640x480 with 1 Axes>"
      ]
     },
     "metadata": {},
     "output_type": "display_data"
    }
   ],
   "source": [
    "box_plot_data = [results['max_u']]\n",
    "plt.boxplot(box_plot_data)\n",
    "plt.show()"
   ]
  },
  {
   "cell_type": "markdown",
   "metadata": {},
   "source": [
    "### Calculate the upper threshold based on the IQR method"
   ]
  },
  {
   "cell_type": "code",
   "execution_count": 179,
   "metadata": {},
   "outputs": [],
   "source": [
    "q75 = np.percentile(results['max_u'], 75)\n",
    "q25 = np.percentile(results['max_u'], 25)\n",
    "iqr = q75-q25\n",
    "upper_threshold = q25 - (iqr * 1.5)"
   ]
  },
  {
   "cell_type": "markdown",
   "metadata": {},
   "source": [
    "### Anomaly detection based on the upper threshold and fuzzy c-means membership coefficient"
   ]
  },
  {
   "cell_type": "code",
   "execution_count": 180,
   "metadata": {},
   "outputs": [],
   "source": [
    "u, u0, d, jm, p, fpc = fuzz.cluster.cmeans_predict(X_test.T, centroids, fuzzy_coefficient, error=0.005, maxiter=1000)"
   ]
  },
  {
   "cell_type": "code",
   "execution_count": 181,
   "metadata": {},
   "outputs": [],
   "source": [
    "max_u_test = np.max(u.T,axis=1)\n",
    "km_y_pred = np.array(max_u_test)\n",
    "km_y_pred[max_u_test <= upper_threshold] = 1\n",
    "km_y_pred[max_u_test > upper_threshold] = 0"
   ]
  },
  {
   "cell_type": "markdown",
   "metadata": {},
   "source": [
    "### Calculate the confusion matrix"
   ]
  },
  {
   "cell_type": "code",
   "execution_count": 182,
   "metadata": {},
   "outputs": [
    {
     "data": {
      "image/png": "[encoded data removed]",
      "text/plain": [
       "<Figure size 800x400 with 2 Axes>"
      ]
     },
     "metadata": {},
     "output_type": "display_data"
    }
   ],
   "source": [
    "km_cm = confusion_matrix(y_test, km_y_pred, labels=[1, 0])\n",
    "\n",
    "plot_confusion_matrix(km_cm)"
   ]
  }
 ],
 "metadata": {
  "kernelspec": {
   "display_name": "venv",
   "language": "python",
   "name": "python3"
  },
  "language_info": {
   "codemirror_mode": {
    "name": "ipython",
    "version": 3
   },
   "file_extension": ".py",
   "mimetype": "text/x-python",
   "name": "python",
   "nbconvert_exporter": "python",
   "pygments_lexer": "ipython3",
   "version": "3.8.8"
  },
  "orig_nbformat": 4
 },
 "nbformat": 4,
 "nbformat_minor": 2
}
